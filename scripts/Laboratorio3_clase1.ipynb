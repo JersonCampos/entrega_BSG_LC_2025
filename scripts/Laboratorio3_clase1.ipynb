{
 "cells": [
  {
   "cell_type": "code",
   "execution_count": 1,
   "metadata": {},
   "outputs": [],
   "source": [
    "#Laboratorio3"
   ]
  },
  {
   "cell_type": "code",
   "execution_count": null,
   "metadata": {},
   "outputs": [
    {
     "data": {
      "text/plain": [
       "[500, 400, 300, 200, 100]"
      ]
     },
     "execution_count": 13,
     "metadata": {},
     "output_type": "execute_result"
    }
   ],
   "source": [
    "#ejercicio 1\n",
    "'''\n",
    "Dada la lista list1 = [100, 200, 300, 400, 500], crea una nueva lista que contenga los\n",
    "elementos en orden inverso: [500, 400, 300, 200, 100]\n",
    "'''\n",
    "list1 = [100,200,300,400,500]\n",
    "inverted_list =list1[::-1]\n",
    "inverted_list"
   ]
  },
  {
   "cell_type": "code",
   "execution_count": 10,
   "metadata": {},
   "outputs": [
    {
     "name": "stdout",
     "output_type": "stream",
     "text": [
      "Lista invertida con for: [500, 400, 300, 200, 100]\n"
     ]
    }
   ],
   "source": [
    "inverted_list_for = []\n",
    "for i in range(len(list1) - 1, -1, -1):\n",
    "    inverted_list_for.append(list1[i])\n",
    "print(\"Lista invertida con for:\", inverted_list_for)"
   ]
  },
  {
   "cell_type": "code",
   "execution_count": 14,
   "metadata": {},
   "outputs": [
    {
     "name": "stdout",
     "output_type": "stream",
     "text": [
      "Lista invertida con reversed(): [500, 400, 300, 200, 100]\n"
     ]
    }
   ],
   "source": [
    "inverted_list_reversed = list(reversed(list1))\n",
    "print(\"Lista invertida con reversed():\", inverted_list_reversed)\n"
   ]
  },
  {
   "cell_type": "code",
   "execution_count": 19,
   "metadata": {},
   "outputs": [
    {
     "name": "stdout",
     "output_type": "stream",
     "text": [
      "Lista con elementos al cuadrado: [1, 4, 9, 16, 25, 36, 49]\n"
     ]
    }
   ],
   "source": [
    "#ejercicio 2\n",
    "'''\n",
    "Elevar al cuadrado cada elemento de una lista:\n",
    "Dada la lista numbers = [1, 2, 3, 4, 5, 6, 7], crea una nueva lista que contenga los\n",
    "elementos elevados al cuadrado: [1, 4, 9, 16, 25, 36, 49]\n",
    "'''\n",
    "numbers = [1, 2, 3, 4, 5, 6, 7]\n",
    "squared_numbers = []\n",
    "for num in numbers:\n",
    "    squared_numbers.append(num ** 2)  # Se eleva al cuadrado y se agrega a la nueva lista\n",
    "print(\"Lista con elementos al cuadrado:\", squared_numbers)"
   ]
  },
  {
   "cell_type": "code",
   "execution_count": 22,
   "metadata": {},
   "outputs": [
    {
     "name": "stdout",
     "output_type": "stream",
     "text": [
      "Lista sin cadenas vacías: ['perro', 'gato', 'caballo', 'tigre', 'foca', 'caballo', 'delfin']\n"
     ]
    }
   ],
   "source": [
    "#Ejercicio 3 \n",
    "'''\n",
    "Eliminar cadenas vacías de la siguiente lista utilizando bucle for\n",
    "Animales = [\"perro\", \"gato\", \"caballo\", \"tigre\" \"foca\", \" \", \"\", \"caballo\", \" \", \"delfin\"]\n",
    "'''\n",
    "Animales = [\"perro\", \"gato\", \"caballo\", \"tigre\", \"foca\", \" \", \"\", \"caballo\", \" \", \"delfin\"]\n",
    "filtered_animales = []\n",
    "for animal in Animales:\n",
    "    if animal.strip() != \"\":  # Se verifica si la cadena no está vacía\n",
    "        filtered_animales.append(animal)\n",
    "print(\"Lista sin cadenas vacías:\", filtered_animales)"
   ]
  },
  {
   "cell_type": "code",
   "execution_count": null,
   "metadata": {},
   "outputs": [],
   "source": []
  },
  {
   "cell_type": "code",
   "execution_count": null,
   "metadata": {},
   "outputs": [],
   "source": []
  }
 ],
 "metadata": {
  "kernelspec": {
   "display_name": "Python 3",
   "language": "python",
   "name": "python3"
  },
  "language_info": {
   "codemirror_mode": {
    "name": "ipython",
    "version": 3
   },
   "file_extension": ".py",
   "mimetype": "text/x-python",
   "name": "python",
   "nbconvert_exporter": "python",
   "pygments_lexer": "ipython3",
   "version": "3.10.2"
  }
 },
 "nbformat": 4,
 "nbformat_minor": 2
}
