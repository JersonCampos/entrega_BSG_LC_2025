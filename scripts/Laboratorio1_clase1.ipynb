{
 "cells": [
  {
   "cell_type": "code",
   "execution_count": 1,
   "metadata": {},
   "outputs": [],
   "source": [
    "#Laboratorio1 "
   ]
  },
  {
   "cell_type": "code",
   "execution_count": null,
   "metadata": {},
   "outputs": [
    {
     "name": "stdout",
     "output_type": "stream",
     "text": [
      "28\n"
     ]
    }
   ],
   "source": [
    "#Creacion de Variables\n",
    "edad = 28\n",
    "nombre = 'Jerson'\n",
    "\n"
   ]
  },
  {
   "cell_type": "code",
   "execution_count": null,
   "metadata": {},
   "outputs": [
    {
     "name": "stdout",
     "output_type": "stream",
     "text": [
      "38\n"
     ]
    }
   ],
   "source": [
    "#Operaciones con variables \n",
    "suma_edad = edad + 10\n"
   ]
  },
  {
   "cell_type": "code",
   "execution_count": 15,
   "metadata": {},
   "outputs": [
    {
     "name": "stdout",
     "output_type": "stream",
     "text": [
      "28\n",
      "38\n",
      "Mi nombre es Campos\n",
      "Mi nombre es Campos y tengo 28 años , dentro de 10 años tendre 38 años\n"
     ]
    }
   ],
   "source": [
    "#Imprimir Variables\n",
    "print(edad)\n",
    "print(suma_edad)\n",
    "print(\"Mi nombre es\", nombre)\n",
    "print(f\"Mi nombre es {nombre} y tengo {edad} años , dentro de 10 años tendre {suma_edad} años\")"
   ]
  },
  {
   "cell_type": "code",
   "execution_count": 16,
   "metadata": {},
   "outputs": [
    {
     "name": "stdout",
     "output_type": "stream",
     "text": [
      "Mi apellido es Campos y tengo 28 años , dentro de 10 años tendre 38 años\n"
     ]
    }
   ],
   "source": [
    "nombre = 'Campos'\n",
    "print(f\"Mi apellido es {nombre} y tengo {edad} años , dentro de 10 años tendre {suma_edad} años\")"
   ]
  },
  {
   "cell_type": "code",
   "execution_count": null,
   "metadata": {},
   "outputs": [],
   "source": []
  }
 ],
 "metadata": {
  "kernelspec": {
   "display_name": "Python 3",
   "language": "python",
   "name": "python3"
  },
  "language_info": {
   "codemirror_mode": {
    "name": "ipython",
    "version": 3
   },
   "file_extension": ".py",
   "mimetype": "text/x-python",
   "name": "python",
   "nbconvert_exporter": "python",
   "pygments_lexer": "ipython3",
   "version": "3.10.2"
  }
 },
 "nbformat": 4,
 "nbformat_minor": 2
}
